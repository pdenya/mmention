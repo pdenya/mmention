{
 "cells": [
  {
   "cell_type": "code",
   "execution_count": 1,
   "metadata": {
    "collapsed": false
   },
   "outputs": [
    {
     "data": {
      "text/plain": [
       ":ppp"
      ]
     },
     "execution_count": 1,
     "metadata": {},
     "output_type": "execute_result"
    }
   ],
   "source": [
    "# re-run this cell to load the rails environment\n",
    "\n",
    "ENV[\"RAILS_ENV\"] = 'development'\n",
    "require ::File.expand_path('../config/environment',  __FILE__)\n",
    "\n",
    "# pretty print JSON\n",
    "# Usage: ppp Source.last\n",
    "def ppp(obj, lang: 'json')\n",
    "    guid = SecureRandom.hex\n",
    "    html = \"<pre><code class=\\\"#{lang}\\\" id=\\\"#{guid}\\\" style=\\\"font-size: 12px;\\\">#{CGI::escapeHTML(JSON.pretty_generate(obj.as_json))}</code></pre>\"\n",
    "    html += '<link rel=\"stylesheet\" href=\"https://highlightjs.org/static/styles/railscasts.css\">'\n",
    "    html += '<script src=\"https://highlightjs.org/static/highlight.pack.js\"></script>'\n",
    "    html += \"<script>hljs.highlightBlock(document.getElementById('#{guid}'));</script>\"\n",
    "    html += '<style type=\"text/css\">.rendered_html code.hljs { padding: .5em; color: #e6e1dc; background-color: #232323; }</style>'\n",
    "\n",
    "    IRuby.html html\n",
    "end"
   ]
  },
  {
   "cell_type": "code",
   "execution_count": 3,
   "metadata": {
    "collapsed": false
   },
   "outputs": [],
   "source": [
    "#\n",
    "#\n",
    "# see README for bigquery instructions\n",
    "#\n",
    "#"
   ]
  },
  {
   "cell_type": "code",
   "execution_count": 2,
   "metadata": {
    "collapsed": false,
    "scrolled": false
   },
   "outputs": [
    {
     "data": {
      "text/html": [
       "<pre><code class=\"json\" id=\"42d9215a07fc5ae04d9d091821e2ca09\" style=\"font-size: 12px;\">{\n",
       "  &quot;total&quot;: 4282070,\n",
       "  &quot;total_imported&quot;: 70679,\n",
       "  &quot;seconds&quot;: 1749\n",
       "}</code></pre><link rel=\"stylesheet\" href=\"https://highlightjs.org/static/styles/railscasts.css\"><script src=\"https://highlightjs.org/static/highlight.pack.js\"></script><script>hljs.highlightBlock(document.getElementById('42d9215a07fc5ae04d9d091821e2ca09'));</script><style type=\"text/css\">.rendered_html code.hljs { padding: .5em; color: #e6e1dc; background-color: #232323; }</style>"
      ],
      "text/plain": [
       "\"<pre><code class=\\\"json\\\" id=\\\"42d9215a07fc5ae04d9d091821e2ca09\\\" style=\\\"font-size: 12px;\\\">{\\n  &quot;total&quot;: 4282070,\\n  &quot;total_imported&quot;: 70679,\\n  &quot;seconds&quot;: 1749\\n}</code></pre><link rel=\\\"stylesheet\\\" href=\\\"https://highlightjs.org/static/styles/railscasts.css\\\"><script src=\\\"https://highlightjs.org/static/highlight.pack.js\\\"></script><script>hljs.highlightBlock(document.getElementById('42d9215a07fc5ae04d9d091821e2ca09'));</script><style type=\\\"text/css\\\">.rendered_html code.hljs { padding: .5em; color: #e6e1dc; background-color: #232323; }</style>\""
      ]
     },
     "execution_count": 2,
     "metadata": {},
     "output_type": "execute_result"
    }
   ],
   "source": [
    "# import the leaguevids.csv file\n",
    "\n",
    "require 'cgi'\n",
    "url_regex = /\\b(([\\w-]+:\\/\\/?|www[.])[^\\s()<>]+(?:\\([\\w\\d]+\\)|([^[:punct:]\\s]|\\/)))/\n",
    "i = 0\n",
    "j = 0\n",
    "t = Time.now.to_i\n",
    "skipped = {}\n",
    "  \n",
    "require 'csv'\n",
    "  CSV.foreach('mmention.csv', :headers => true) do |csv_obj|\n",
    "  # count total rows\n",
    "  i += 1\n",
    "  \n",
    "  # filter subreddits\n",
    "  csv_obj['subreddit'].downcase!\n",
    "    next unless ['heroesofthestorm', 'nexusnewbies', 'competitivehots', 'leagueoflegends','loleventvods','summonerschool'].include?(csv_obj['subreddit'])\n",
    "  \n",
    "  # require fields\n",
    "  skip = false\n",
    "  ['id','body','link_id','created_utc','subreddit','author', 'score'].each do |required_key|\n",
    "    if csv_obj[required_key].nil?\n",
    "      skip = true\n",
    "      skipped[required_key] ||= 0\n",
    "      skipped[required_key] += 1\n",
    "    end\n",
    "  end\n",
    "  next if skip\n",
    "  \n",
    "  # check if we've processed this comment\n",
    "  comment = Comment.where('remote_id = ?', csv_obj['id']).first\n",
    "  next unless comment.nil?\n",
    "  \n",
    "  # count rows we're processing\n",
    "  j += 1\n",
    "  \n",
    "  # find youtube.com urls\n",
    "  youtube_urls = csv_obj['body'].gsub(/&amp;/, '&').scan(url_regex).map {|r| r.first}.select{|url| url.include?(\"://www.youtube.com/\")}\n",
    "\n",
    "  # normalize\n",
    "  youtube_urls = youtube_urls.map do |url|\n",
    "    params = CGI::parse(url.split('?').last) rescue nil\n",
    "    next if params.nil? || !params['v'] || !params['v'].first\n",
    "    \"https://www.youtube.com/watch?v=#{params['v'].first}\"\n",
    "  end\n",
    "  \n",
    "    # find youtu.be urls\n",
    "  youtube_urls = csv_obj['body'].gsub(/&amp;/, '&').scan(url_regex).map {|r| r.first}.select{|url| url.include?(\"://youtu.be/\")}\n",
    "\n",
    "  # normalize\n",
    "  youtube_urls = youtube_urls.map do |url|\n",
    "    param = url.split('youtu.be/').last.split('?').first rescue nil\n",
    "    next if param.nil?\n",
    "    \"https://www.youtube.com/watch?v=#{param}\"\n",
    "  end\n",
    "  \n",
    "  # unique\n",
    "  youtube_urls.uniq!\n",
    "  \n",
    "  # skip this comment if we didn't find any urls\n",
    "  next if youtube_urls.empty?\n",
    "  \n",
    "  # insert\n",
    "  comment = Comment.create({\n",
    "    :thread_url => \"http://reddit.com/r/#{csv_obj['subreddit']}/comments/#{csv_obj['link_id'].split('_').last}\",\n",
    "    :remote_id => csv_obj['id'],\n",
    "    :url => \"http://reddit.com/r/#{csv_obj['subreddit']}/comments/#{csv_obj['link_id'].split('_').last}/a/#{csv_obj['id']}\",\n",
    "    :text => csv_obj['body'],\n",
    "    :user => csv_obj['author'],\n",
    "    :posted_at => Time.at(csv_obj['created_utc'].to_i).to_datetime,\n",
    "    :subreddit => csv_obj['subreddit'],\n",
    "    :score => csv_obj['score']\n",
    "  })\n",
    "  \n",
    "  youtube_urls.each do |url|\n",
    "    vid = Video.where('url = ?', url).first\n",
    "    \n",
    "    vid ||= Video.create({\n",
    "      :url => url\n",
    "    })\n",
    "    \n",
    "    reference = Reference.create({\n",
    "      :video => vid,\n",
    "      :comment => comment\n",
    "    })\n",
    "  end\n",
    "end\n",
    "\n",
    "t = Time.now.to_i - t\n",
    "\n",
    "ppp ({ :total => i, :total_imported => j, :seconds => t })"
   ]
  },
  {
   "cell_type": "code",
   "execution_count": 5,
   "metadata": {
    "collapsed": false
   },
   "outputs": [
    {
     "data": {
      "text/html": [
       "<pre><code class=\"json\" id=\"3c27e975fd75fd4bf9d959eac73b268b\" style=\"font-size: 12px;\">{\n",
       "}</code></pre><link rel=\"stylesheet\" href=\"https://highlightjs.org/static/styles/railscasts.css\"><script src=\"https://highlightjs.org/static/highlight.pack.js\"></script><script>hljs.highlightBlock(document.getElementById('3c27e975fd75fd4bf9d959eac73b268b'));</script><style type=\"text/css\">.rendered_html code.hljs { padding: .5em; color: #e6e1dc; background-color: #232323; }</style>"
      ],
      "text/plain": [
       "\"<pre><code class=\\\"json\\\" id=\\\"3c27e975fd75fd4bf9d959eac73b268b\\\" style=\\\"font-size: 12px;\\\">{\\n}</code></pre><link rel=\\\"stylesheet\\\" href=\\\"https://highlightjs.org/static/styles/railscasts.css\\\"><script src=\\\"https://highlightjs.org/static/highlight.pack.js\\\"></script><script>hljs.highlightBlock(document.getElementById('3c27e975fd75fd4bf9d959eac73b268b'));</script><style type=\\\"text/css\\\">.rendered_html code.hljs { padding: .5em; color: #e6e1dc; background-color: #232323; }</style>\""
      ]
     },
     "execution_count": 5,
     "metadata": {},
     "output_type": "execute_result"
    }
   ],
   "source": [
    "# attributes missing that caused us to skip rows (hopefully empty)\n",
    "ppp skipped"
   ]
  },
  {
   "cell_type": "code",
   "execution_count": 98,
   "metadata": {
    "collapsed": false
   },
   "outputs": [
    {
     "data": {
      "text/html": [
       "<pre><code class=\"json\" id=\"75fa8ba000e08fa0737f9899f4ac1a3c\" style=\"font-size: 12px;\">[\n",
       "  [\n",
       "    2704,\n",
       "    16,\n",
       "    &quot;https://www.youtube.com/watch?v=&quot;\n",
       "  ],\n",
       "  [\n",
       "    275,\n",
       "    52,\n",
       "    &quot;https://www.youtube.com/watch?v=dQw4w9WgXcQ&quot;\n",
       "  ],\n",
       "  [\n",
       "    67,\n",
       "    327,\n",
       "    &quot;https://www.youtube.com/watch?v=kB2UADNoRUA&quot;\n",
       "  ],\n",
       "  [\n",
       "    63,\n",
       "    647,\n",
       "    &quot;https://www.youtube.com/watch?v=x6WiBDTUWoA&quot;\n",
       "  ],\n",
       "  [\n",
       "    60,\n",
       "    1063,\n",
       "    &quot;https://www.youtube.com/watch?v=5UfO7qOHx5M&quot;\n",
       "  ],\n",
       "  [\n",
       "    56,\n",
       "    163,\n",
       "    &quot;https://www.youtube.com/watch?v=dgMMxTofZ5A&quot;\n",
       "  ],\n",
       "  [\n",
       "    56,\n",
       "    690,\n",
       "    &quot;https://www.youtube.com/watch?v=evjn7_tMRd4&quot;\n",
       "  ],\n",
       "  [\n",
       "    55,\n",
       "    1170,\n",
       "    &quot;https://www.youtube.com/watch?v=H1vl9MQEz_8&quot;\n",
       "  ],\n",
       "  [\n",
       "    54,\n",
       "    1159,\n",
       "    &quot;https://www.youtube.com/watch?v=ai6oMY4U0Yw&quot;\n",
       "  ],\n",
       "  [\n",
       "    53,\n",
       "    977,\n",
       "    &quot;https://www.youtube.com/watch?v=Lnowbp88lwI&quot;\n",
       "  ]\n",
       "]</code></pre><link rel=\"stylesheet\" href=\"https://highlightjs.org/static/styles/railscasts.css\"><script src=\"https://highlightjs.org/static/highlight.pack.js\"></script><script>hljs.highlightBlock(document.getElementById('75fa8ba000e08fa0737f9899f4ac1a3c'));</script><style type=\"text/css\">.rendered_html code.hljs { padding: .5em; color: #e6e1dc; background-color: #232323; }</style>"
      ],
      "text/plain": [
       "\"<pre><code class=\\\"json\\\" id=\\\"75fa8ba000e08fa0737f9899f4ac1a3c\\\" style=\\\"font-size: 12px;\\\">[\\n  [\\n    2704,\\n    16,\\n    &quot;https://www.youtube.com/watch?v=&quot;\\n  ],\\n  [\\n    275,\\n    52,\\n    &quot;https://www.youtube.com/watch?v=dQw4w9WgXcQ&quot;\\n  ],\\n  [\\n    67,\\n    327,\\n    &quot;https://www.youtube.com/watch?v=kB2UADNoRUA&quot;\\n  ],\\n  [\\n    63,\\n    647,\\n    &quot;https://www.youtube.com/watch?v=x6WiBDTUWoA&quot;\\n  ],\\n  [\\n    60,\\n    1063,\\n    &quot;https://www.youtube.com/watch?v=5UfO7qOHx5M&quot;\\n  ],\\n  [\\n    56,\\n    163,\\n    &quot;https://www.youtube.com/watch?v=dgMMxTofZ5A&quot;\\n  ],\\n  [\\n    56,\\n    690,\\n    &quot;https://www.youtube.com/watch?v=evjn7_tMRd4&quot;\\n  ],\\n  [\\n    55,\\n    1170,\\n    &quot;https://www.youtube.com/watch?v=H1vl9MQEz_8&quot;\\n  ],\\n  [\\n    54,\\n    1159,\\n    &quot;https://www.youtube.com/watch?v=ai6oMY4U0Yw&quot;\\n  ],\\n  [\\n    53,\\n    977,\\n    &quot;https://www.youtube.com/watch?v=Lnowbp88lwI&quot;\\n  ]\\n]</code></pre><link rel=\\\"stylesheet\\\" href=\\\"https://highlightjs.org/static/styles/railscasts.css\\\"><script src=\\\"https://highlightjs.org/static/highlight.pack.js\\\"></script><script>hljs.highlightBlock(document.getElementById('75fa8ba000e08fa0737f9899f4ac1a3c'));</script><style type=\\\"text/css\\\">.rendered_html code.hljs { padding: .5em; color: #e6e1dc; background-color: #232323; }</style>\""
      ]
     },
     "execution_count": 98,
     "metadata": {},
     "output_type": "execute_result"
    }
   ],
   "source": [
    "# get the most referenced videos\n",
    "res = Reference.select('video_id, count(*) as count').group('video_id').order('count(*) DESC').limit(10).map do |ref|\n",
    "  [ref.count, ref.video_id, Video.find(ref.video_id).url]\n",
    "end\n",
    "\n",
    "ppp res"
   ]
  },
  {
   "cell_type": "code",
   "execution_count": 102,
   "metadata": {
    "collapsed": false
   },
   "outputs": [
    {
     "data": {
      "text/html": [
       "<pre><code class=\"json\" id=\"6fdab614e1d94d745286e3a48fd3a0c9\" style=\"font-size: 12px;\">[\n",
       "  [\n",
       "    432,\n",
       "    16,\n",
       "    &quot;https://www.youtube.com/watch?v=&quot;\n",
       "  ],\n",
       "  [\n",
       "    31,\n",
       "    714,\n",
       "    &quot;https://www.youtube.com/watch?v=c3bmatXt6ds&quot;\n",
       "  ],\n",
       "  [\n",
       "    29,\n",
       "    163,\n",
       "    &quot;https://www.youtube.com/watch?v=dgMMxTofZ5A&quot;\n",
       "  ],\n",
       "  [\n",
       "    27,\n",
       "    12,\n",
       "    &quot;https://www.youtube.com/watch?v=6ywhB-2h2AE&quot;\n",
       "  ],\n",
       "  [\n",
       "    18,\n",
       "    4373,\n",
       "    &quot;https://www.youtube.com/watch?v=zkiCSUeOGTc&quot;\n",
       "  ],\n",
       "  [\n",
       "    18,\n",
       "    1064,\n",
       "    &quot;https://www.youtube.com/watch?v=1oPLc6DZvz8&quot;\n",
       "  ],\n",
       "  [\n",
       "    17,\n",
       "    552,\n",
       "    &quot;https://www.youtube.com/watch?v=ZQzB0HDstLY&quot;\n",
       "  ],\n",
       "  [\n",
       "    16,\n",
       "    1433,\n",
       "    &quot;https://www.youtube.com/watch?v=K4EfueGH7IY&quot;\n",
       "  ],\n",
       "  [\n",
       "    16,\n",
       "    417,\n",
       "    &quot;https://www.youtube.com/watch?v=cz7TWpRXyRY&quot;\n",
       "  ],\n",
       "  [\n",
       "    14,\n",
       "    995,\n",
       "    &quot;https://www.youtube.com/watch?v=hi63v_RnnBs&quot;\n",
       "  ]\n",
       "]</code></pre><link rel=\"stylesheet\" href=\"https://highlightjs.org/static/styles/railscasts.css\"><script src=\"https://highlightjs.org/static/highlight.pack.js\"></script><script>hljs.highlightBlock(document.getElementById('6fdab614e1d94d745286e3a48fd3a0c9'));</script><style type=\"text/css\">.rendered_html code.hljs { padding: .5em; color: #e6e1dc; background-color: #232323; }</style>"
      ],
      "text/plain": [
       "\"<pre><code class=\\\"json\\\" id=\\\"6fdab614e1d94d745286e3a48fd3a0c9\\\" style=\\\"font-size: 12px;\\\">[\\n  [\\n    432,\\n    16,\\n    &quot;https://www.youtube.com/watch?v=&quot;\\n  ],\\n  [\\n    31,\\n    714,\\n    &quot;https://www.youtube.com/watch?v=c3bmatXt6ds&quot;\\n  ],\\n  [\\n    29,\\n    163,\\n    &quot;https://www.youtube.com/watch?v=dgMMxTofZ5A&quot;\\n  ],\\n  [\\n    27,\\n    12,\\n    &quot;https://www.youtube.com/watch?v=6ywhB-2h2AE&quot;\\n  ],\\n  [\\n    18,\\n    4373,\\n    &quot;https://www.youtube.com/watch?v=zkiCSUeOGTc&quot;\\n  ],\\n  [\\n    18,\\n    1064,\\n    &quot;https://www.youtube.com/watch?v=1oPLc6DZvz8&quot;\\n  ],\\n  [\\n    17,\\n    552,\\n    &quot;https://www.youtube.com/watch?v=ZQzB0HDstLY&quot;\\n  ],\\n  [\\n    16,\\n    1433,\\n    &quot;https://www.youtube.com/watch?v=K4EfueGH7IY&quot;\\n  ],\\n  [\\n    16,\\n    417,\\n    &quot;https://www.youtube.com/watch?v=cz7TWpRXyRY&quot;\\n  ],\\n  [\\n    14,\\n    995,\\n    &quot;https://www.youtube.com/watch?v=hi63v_RnnBs&quot;\\n  ]\\n]</code></pre><link rel=\\\"stylesheet\\\" href=\\\"https://highlightjs.org/static/styles/railscasts.css\\\"><script src=\\\"https://highlightjs.org/static/highlight.pack.js\\\"></script><script>hljs.highlightBlock(document.getElementById('6fdab614e1d94d745286e3a48fd3a0c9'));</script><style type=\\\"text/css\\\">.rendered_html code.hljs { padding: .5em; color: #e6e1dc; background-color: #232323; }</style>\""
      ]
     },
     "execution_count": 102,
     "metadata": {},
     "output_type": "execute_result"
    }
   ],
   "source": [
    "# most referenced videos, limited to summoner school\n",
    "res = Reference.joins(\"INNER JOIN comments ON (\\\"references\\\".comment_id = comments.id AND comments.subreddit = 'summonerschool')\").select('video_id, count(*) as count').group('video_id').order('count(*) DESC').limit(10).map do |ref|\n",
    "  [ref.count, ref.video_id, Video.find(ref.video_id).url]\n",
    "end\n",
    "\n",
    "ppp res"
   ]
  },
  {
   "cell_type": "code",
   "execution_count": 106,
   "metadata": {
    "collapsed": false
   },
   "outputs": [
    {
     "data": {
      "text/html": [
       "<pre><code class=\"json\" id=\"5f477971324b77aa4476f446366e787c\" style=\"font-size: 12px;\">{\n",
       "  &quot;id&quot;: 13,\n",
       "  &quot;thread_url&quot;: &quot;http://reddit.com/leagueoflegends/comments/2zkkvd&quot;,\n",
       "  &quot;text&quot;: &quot;The official RiotGames channel is kinda good. [here](https://www.youtube.com/user/RiotGamesInc)\\n\\n\\n&quot;,\n",
       "  &quot;user&quot;: &quot;xRaiken&quot;,\n",
       "  &quot;posted_at&quot;: &quot;2015-03-19 10:31:22 UTC&quot;,\n",
       "  &quot;subreddit&quot;: &quot;leagueoflegends&quot;,\n",
       "  &quot;created_at&quot;: &quot;2015-08-02 07:40:45 UTC&quot;,\n",
       "  &quot;updated_at&quot;: &quot;2015-08-02 07:40:45 UTC&quot;,\n",
       "  &quot;thread_title&quot;: null,\n",
       "  &quot;url&quot;: &quot;http://reddit.com/leagueoflegends/comments/2zkkvd/a/e&quot;,\n",
       "  &quot;remote_id&quot;: &quot;cpjqy7e&quot;\n",
       "}</code></pre><link rel=\"stylesheet\" href=\"https://highlightjs.org/static/styles/railscasts.css\"><script src=\"https://highlightjs.org/static/highlight.pack.js\"></script><script>hljs.highlightBlock(document.getElementById('5f477971324b77aa4476f446366e787c'));</script><style type=\"text/css\">.rendered_html code.hljs { padding: .5em; color: #e6e1dc; background-color: #232323; }</style>"
      ],
      "text/plain": [
       "\"<pre><code class=\\\"json\\\" id=\\\"5f477971324b77aa4476f446366e787c\\\" style=\\\"font-size: 12px;\\\">{\\n  &quot;id&quot;: 13,\\n  &quot;thread_url&quot;: &quot;http://reddit.com/leagueoflegends/comments/2zkkvd&quot;,\\n  &quot;text&quot;: &quot;The official RiotGames channel is kinda good. [here](https://www.youtube.com/user/RiotGamesInc)\\\\n\\\\n\\\\n&quot;,\\n  &quot;user&quot;: &quot;xRaiken&quot;,\\n  &quot;posted_at&quot;: &quot;2015-03-19 10:31:22 UTC&quot;,\\n  &quot;subreddit&quot;: &quot;leagueoflegends&quot;,\\n  &quot;created_at&quot;: &quot;2015-08-02 07:40:45 UTC&quot;,\\n  &quot;updated_at&quot;: &quot;2015-08-02 07:40:45 UTC&quot;,\\n  &quot;thread_title&quot;: null,\\n  &quot;url&quot;: &quot;http://reddit.com/leagueoflegends/comments/2zkkvd/a/e&quot;,\\n  &quot;remote_id&quot;: &quot;cpjqy7e&quot;\\n}</code></pre><link rel=\\\"stylesheet\\\" href=\\\"https://highlightjs.org/static/styles/railscasts.css\\\"><script src=\\\"https://highlightjs.org/static/highlight.pack.js\\\"></script><script>hljs.highlightBlock(document.getElementById('5f477971324b77aa4476f446366e787c'));</script><style type=\\\"text/css\\\">.rendered_html code.hljs { padding: .5em; color: #e6e1dc; background-color: #232323; }</style>\""
      ]
     },
     "execution_count": 106,
     "metadata": {},
     "output_type": "execute_result"
    }
   ],
   "source": [
    "comments = Reference.where('video_id = ?', 16).includes(:comment).map { |r| r.comment }\n",
    "ppp comments.first"
   ]
  },
  {
   "cell_type": "code",
   "execution_count": 5,
   "metadata": {
    "collapsed": false
   },
   "outputs": [
    {
     "data": {
      "text/html": [
       "<pre><code class=\"json\" id=\"9fe78c94a7b17d62ddc5003444600388\" style=\"font-size: 12px;\">[\n",
       "  {\n",
       "    &quot;id&quot;: 13,\n",
       "    &quot;thread_url&quot;: &quot;http://reddit.com/leagueoflegends/comments/2zkkvd&quot;,\n",
       "    &quot;text&quot;: &quot;The official RiotGames channel is kinda good. [here](https://www.youtube.com/user/RiotGamesInc)\\n\\n\\n&quot;,\n",
       "    &quot;user&quot;: &quot;xRaiken&quot;,\n",
       "    &quot;posted_at&quot;: &quot;2015-03-19 10:31:22 UTC&quot;,\n",
       "    &quot;subreddit&quot;: &quot;leagueoflegends&quot;,\n",
       "    &quot;created_at&quot;: &quot;2015-08-02 07:40:45 UTC&quot;,\n",
       "    &quot;updated_at&quot;: &quot;2015-08-02 07:40:45 UTC&quot;,\n",
       "    &quot;thread_title&quot;: null,\n",
       "    &quot;url&quot;: &quot;http://reddit.com/leagueoflegends/comments/2zkkvd/a/e&quot;,\n",
       "    &quot;remote_id&quot;: &quot;cpjqy7e&quot;\n",
       "  },\n",
       "  {\n",
       "    &quot;id&quot;: 16,\n",
       "    &quot;thread_url&quot;: &quot;http://reddit.com/leagueoflegends/comments/3ah87u&quot;,\n",
       "    &quot;text&quot;: &quot;https://www.youtube.com/channel/UC8Ap_5x2SSiowTjkjeGssWQ&quot;,\n",
       "    &quot;user&quot;: &quot;worstadceunegg&quot;,\n",
       "    &quot;posted_at&quot;: &quot;2015-06-20 03:57:03 UTC&quot;,\n",
       "    &quot;subreddit&quot;: &quot;leagueoflegends&quot;,\n",
       "    &quot;created_at&quot;: &quot;2015-08-02 07:40:45 UTC&quot;,\n",
       "    &quot;updated_at&quot;: &quot;2015-08-02 07:40:45 UTC&quot;,\n",
       "    &quot;thread_title&quot;: null,\n",
       "    &quot;url&quot;: &quot;http://reddit.com/leagueoflegends/comments/3ah87u/a/6&quot;,\n",
       "    &quot;remote_id&quot;: &quot;csclyl6&quot;\n",
       "  },\n",
       "  {\n",
       "    &quot;id&quot;: 18,\n",
       "    &quot;thread_url&quot;: &quot;http://reddit.com/leagueoflegends/comments/2vvx6l&quot;,\n",
       "    &quot;text&quot;: &quot;It&#39;s from their Team Previews and this is supposed to be the CLG video I guess. Rest of the teams are here (https://www.youtube.com/playlist?list=PLPZ7h6L6LC7UZZm8srKZHyftnLHwmp4tL)&quot;,\n",
       "    &quot;user&quot;: &quot;imonfireahh&quot;,\n",
       "    &quot;posted_at&quot;: &quot;2015-02-14 18:09:19 UTC&quot;,\n",
       "    &quot;subreddit&quot;: &quot;leagueoflegends&quot;,\n",
       "    &quot;created_at&quot;: &quot;2015-08-02 07:40:46 UTC&quot;,\n",
       "    &quot;updated_at&quot;: &quot;2015-08-02 07:40:46 UTC&quot;,\n",
       "    &quot;thread_title&quot;: null,\n",
       "    &quot;url&quot;: &quot;http://reddit.com/leagueoflegends/comments/2vvx6l/a/o&quot;,\n",
       "    &quot;remote_id&quot;: &quot;coledpo&quot;\n",
       "  },\n",
       "  {\n",
       "    &quot;id&quot;: 21,\n",
       "    &quot;thread_url&quot;: &quot;http://reddit.com/summonerschool/comments/34exzs&quot;,\n",
       "    &quot;text&quot;: &quot;I found [this channel](https://www.youtube.com/user/unswlolsoc/videos) awhile ago. It goes into great detail on positioning and trading. It also covers a wealth of other things. &quot;,\n",
       "    &quot;user&quot;: &quot;Toxicfunk314&quot;,\n",
       "    &quot;posted_at&quot;: &quot;2015-04-30 23:23:59 UTC&quot;,\n",
       "    &quot;subreddit&quot;: &quot;summonerschool&quot;,\n",
       "    &quot;created_at&quot;: &quot;2015-08-02 07:40:46 UTC&quot;,\n",
       "    &quot;updated_at&quot;: &quot;2015-08-02 07:40:46 UTC&quot;,\n",
       "    &quot;thread_title&quot;: null,\n",
       "    &quot;url&quot;: &quot;http://reddit.com/summonerschool/comments/34exzs/a/b&quot;,\n",
       "    &quot;remote_id&quot;: &quot;cquf10b&quot;\n",
       "  },\n",
       "  {\n",
       "    &quot;id&quot;: 26,\n",
       "    &quot;thread_url&quot;: &quot;http://reddit.com/leagueoflegends/comments/32ntz0&quot;,\n",
       "    &quot;text&quot;: &quot;Take this as advice and suggestions and not as bashing. The best place to learn anything about league, imho, is the long and great videos from [Unswlolsoc&#39;s youtube channel](https://www.youtube.com/user/unswlolsoc). It is quite dated but the information is 99% timeless. If you guys had something of this sort I&#39;d probably sub for at least a month.&quot;,\n",
       "    &quot;user&quot;: &quot;FuujinSama&quot;,\n",
       "    &quot;posted_at&quot;: &quot;2015-04-15 22:30:47 UTC&quot;,\n",
       "    &quot;subreddit&quot;: &quot;leagueoflegends&quot;,\n",
       "    &quot;created_at&quot;: &quot;2015-08-02 07:40:46 UTC&quot;,\n",
       "    &quot;updated_at&quot;: &quot;2015-08-02 07:40:46 UTC&quot;,\n",
       "    &quot;thread_title&quot;: null,\n",
       "    &quot;url&quot;: &quot;http://reddit.com/leagueoflegends/comments/32ntz0/a/1&quot;,\n",
       "    &quot;remote_id&quot;: &quot;cqdo071&quot;\n",
       "  },\n",
       "  {\n",
       "    &quot;id&quot;: 49,\n",
       "    &quot;thread_url&quot;: &quot;http://reddit.com/leagueoflegends/comments/2s3665&quot;,\n",
       "    &quot;text&quot;: &quot;Listening to my playlist all the time: https://www.youtube.com/playlist?list=PLEcPvsz1NFitnZ3VWHcV42JhtO4KuWS3I\\n\\nIt has pretty much every kind of music in it, check it if you want to.&quot;,\n",
       "    &quot;user&quot;: &quot;c0uNtyy&quot;,\n",
       "    &quot;posted_at&quot;: &quot;2015-01-11 20:21:44 UTC&quot;,\n",
       "    &quot;subreddit&quot;: &quot;leagueoflegends&quot;,\n",
       "    &quot;created_at&quot;: &quot;2015-08-02 07:40:46 UTC&quot;,\n",
       "    &quot;updated_at&quot;: &quot;2015-08-02 07:40:46 UTC&quot;,\n",
       "    &quot;thread_title&quot;: null,\n",
       "    &quot;url&quot;: &quot;http://reddit.com/leagueoflegends/comments/2s3665/a/i&quot;,\n",
       "    &quot;remote_id&quot;: &quot;cnlqx7i&quot;\n",
       "  },\n",
       "  {\n",
       "    &quot;id&quot;: 52,\n",
       "    &quot;thread_url&quot;: &quot;http://reddit.com/leagueoflegends/comments/2s3665&quot;,\n",
       "    &quot;text&quot;: &quot;[Liquicity](https://www.youtube.com/user/Liquicity) Nice and chilled out to help keep a level head and reduce the SoloQ rage&quot;,\n",
       "    &quot;user&quot;: &quot;Rajuun&quot;,\n",
       "    &quot;posted_at&quot;: &quot;2015-01-11 21:02:54 UTC&quot;,\n",
       "    &quot;subreddit&quot;: &quot;leagueoflegends&quot;,\n",
       "    &quot;created_at&quot;: &quot;2015-08-02 07:40:46 UTC&quot;,\n",
       "    &quot;updated_at&quot;: &quot;2015-08-02 07:40:46 UTC&quot;,\n",
       "    &quot;thread_title&quot;: null,\n",
       "    &quot;url&quot;: &quot;http://reddit.com/leagueoflegends/comments/2s3665/a/f&quot;,\n",
       "    &quot;remote_id&quot;: &quot;cnlsg0f&quot;\n",
       "  },\n",
       "  {\n",
       "    &quot;id&quot;: 80,\n",
       "    &quot;thread_url&quot;: &quot;http://reddit.com/leagueoflegends/comments/2ub4rm&quot;,\n",
       "    &quot;text&quot;: &quot;Hi guys I am Petar known as Fnatic Meraklija.\\nI am youtuber 2k + subs. i mostly make parodys and some great plays :) . I started playing lol when zyra was on loading screen. Last season i was gole 2 and this season goal is plat/diamond.\\nSo thats about me :) here is my channel and hope you like it :D http://www.youtube.com/user/fnaticmeraklija&quot;,\n",
       "    &quot;user&quot;: &quot;peracar00&quot;,\n",
       "    &quot;posted_at&quot;: &quot;2015-01-31 22:40:16 UTC&quot;,\n",
       "    &quot;subreddit&quot;: &quot;leagueoflegends&quot;,\n",
       "    &quot;created_at&quot;: &quot;2015-08-02 07:40:46 UTC&quot;,\n",
       "    &quot;updated_at&quot;: &quot;2015-08-02 07:40:46 UTC&quot;,\n",
       "    &quot;thread_title&quot;: null,\n",
       "    &quot;url&quot;: &quot;http://reddit.com/leagueoflegends/comments/2ub4rm/a/f&quot;,\n",
       "    &quot;remote_id&quot;: &quot;co752nf&quot;\n",
       "  },\n",
       "  {\n",
       "    &quot;id&quot;: 83,\n",
       "    &quot;thread_url&quot;: &quot;http://reddit.com/leagueoflegends/comments/33dikq&quot;,\n",
       "    &quot;text&quot;: &quot;Check out foxdrop, phylol, redmercy on youtube.\\nhttps://www.youtube.com/user/ThePhylol\\nhttps://www.youtube.com/user/foxdropLoL\\nhttps://www.youtube.com/user/Redmercy\\nYou can also check out streams on twitch, i recommend scarra, TheOddOne, Bjergsen. These guys explain what they do and why a lot. \\nHope it helps :)&quot;,\n",
       "    &quot;user&quot;: &quot;TSM_Wraithfyter&quot;,\n",
       "    &quot;posted_at&quot;: &quot;2015-04-21 18:33:04 UTC&quot;,\n",
       "    &quot;subreddit&quot;: &quot;leagueoflegends&quot;,\n",
       "    &quot;created_at&quot;: &quot;2015-08-02 07:40:46 UTC&quot;,\n",
       "    &quot;updated_at&quot;: &quot;2015-08-02 07:40:46 UTC&quot;,\n",
       "    &quot;thread_title&quot;: null,\n",
       "    &quot;url&quot;: &quot;http://reddit.com/leagueoflegends/comments/33dikq/a/w&quot;,\n",
       "    &quot;remote_id&quot;: &quot;cqjwh0w&quot;\n",
       "  },\n",
       "  {\n",
       "    &quot;id&quot;: 109,\n",
       "    &quot;thread_url&quot;: &quot;http://reddit.com/leagueoflegends/comments/34md3b&quot;,\n",
       "    &quot;text&quot;: &quot;Hello people! The name I go by is Mizu. I play mostly champs in the mid lane and ad carry champs in the botlane. I play in the Euw server and Im currenly Silver but building my way up to at least Platinum.\\nMy channel will consist of top 5&#39;s, montages, and rants or discussions about a certain topic. Of course, all on league of legends. \\nThe most recent video I have is a Yasuo Montage I have a made. I know what you&#39;re thinking: \\&quot;Wow another Yasuo montage. Lame.\\&quot; Well, yeah, but my aim is to have a montage for ALL the champs in the future. So, this is the link: https://www.youtube.com/watch?v=fSdmcOHQqvQ It has some nasty plays so I promise you, you won&#39;t waste time watching it!\\n\\nThis is a link for my channel, in case you want to check it out:\\nhttps://www.youtube.com/channel/UCvJSvDGPSnCeNd1w8W0xSmQ (No custom URL cause Youtube is being a poop right now) &quot;,\n",
       "    &quot;user&quot;: &quot;Linguinigames&quot;,\n",
       "    &quot;posted_at&quot;: &quot;2015-05-03 17:10:03 UTC&quot;,\n",
       "    &quot;subreddit&quot;: &quot;leagueoflegends&quot;,\n",
       "    &quot;created_at&quot;: &quot;2015-08-02 07:40:46 UTC&quot;,\n",
       "    &quot;updated_at&quot;: &quot;2015-08-02 07:40:46 UTC&quot;,\n",
       "    &quot;thread_title&quot;: null,\n",
       "    &quot;url&quot;: &quot;http://reddit.com/leagueoflegends/comments/34md3b/a/0&quot;,\n",
       "    &quot;remote_id&quot;: &quot;cqx25f0&quot;\n",
       "  }\n",
       "]</code></pre><link rel=\"stylesheet\" href=\"https://highlightjs.org/static/styles/railscasts.css\"><script src=\"https://highlightjs.org/static/highlight.pack.js\"></script><script>hljs.highlightBlock(document.getElementById('9fe78c94a7b17d62ddc5003444600388'));</script><style type=\"text/css\">.rendered_html code.hljs { padding: .5em; color: #e6e1dc; background-color: #232323; }</style>"
      ],
      "text/plain": [
       "\"<pre><code class=\\\"json\\\" id=\\\"9fe78c94a7b17d62ddc5003444600388\\\" style=\\\"font-size: 12px;\\\">[\\n  {\\n    &quot;id&quot;: 13,\\n    &quot;thread_url&quot;: &quot;http://reddit.com/leagueoflegends/comments/2zkkvd&quot;,\\n    &quot;text&quot;: &quot;The official RiotGames channel is kinda good. [here](https://www.youtube.com/user/RiotGamesInc)\\\\n\\\\n\\\\n&quot;,\\n    &quot;user&quot;: &quot;xRaiken&quot;,\\n    &quot;posted_at&quot;: &quot;2015-03-19 10:31:22 UTC&quot;,\\n    &quot;subreddit&quot;: &quot;leagueoflegends&quot;,\\n    &quot;created_at&quot;: &quot;2015-08-02 07:40:45 UTC&quot;,\\n    &quot;updated_at&quot;: &quot;2015-08-02 07:40:45 UTC&quot;,\\n    &quot;thread_title&quot;: null,\\n    &quot;url&quot;: &quot;http://reddit.com/leagueoflegends/comments/2zkkvd/a/e&quot;,\\n    &quot;remote_id&quot;: &quot;cpjqy7e&quot;\\n  },\\n  {\\n    &quot;id&quot;: 16,\\n    &quot;thread_url&quot;: &quot;http://reddit.com/leagueoflegends/comments/3ah87u&quot;,\\n    &quot;text&quot;: &quot;https://www.youtube.com/channel/UC8Ap_5x2SSiowTjkjeGssWQ&quot;,\\n    &quot;user&quot;: &quot;worstadceunegg&quot;,\\n    &quot;posted_at&quot;: &quot;2015-06-20 03:57:03 UTC&quot;,\\n    &quot;subreddit&quot;: &quot;leagueoflegends&quot;,\\n    &quot;created_at&quot;: &quot;2015-08-02 07:40:45 UTC&quot;,\\n    &quot;updated_at&quot;: &quot;2015-08-02 07:40:45 UTC&quot;,\\n    &quot;thread_title&quot;: null,\\n    &quot;url&quot;: &quot;http://reddit.com/leagueoflegends/comments/3ah87u/a/6&quot;,\\n    &quot;remote_id&quot;: &quot;csclyl6&quot;\\n  },\\n  {\\n    &quot;id&quot;: 18,\\n    &quot;thread_url&quot;: &quot;http://reddit.com/leagueoflegends/comments/2vvx6l&quot;,\\n    &quot;text&quot;: &quot;It&#39;s from their Team Previews and this is supposed to be the CLG video I guess. Rest of the teams are here (https://www.youtube.com/playlist?list=PLPZ7h6L6LC7UZZm8srKZHyftnLHwmp4tL)&quot;,\\n    &quot;user&quot;: &quot;imonfireahh&quot;,\\n    &quot;posted_at&quot;: &quot;2015-02-14 18:09:19 UTC&quot;,\\n    &quot;subreddit&quot;: &quot;leagueoflegends&quot;,\\n    &quot;created_at&quot;: &quot;2015-08-02 07:40:46 UTC&quot;,\\n    &quot;updated_at&quot;: &quot;2015-08-02 07:40:46 UTC&quot;,\\n    &quot;thread_title&quot;: null,\\n    &quot;url&quot;: &quot;http://reddit.com/leagueoflegends/comments/2vvx6l/a/o&quot;,\\n    &quot;remote_id&quot;: &quot;coledpo&quot;\\n  },\\n  {\\n    &quot;id&quot;: 21,\\n    &quot;thread_url&quot;: &quot;http://reddit.com/summonerschool/comments/34exzs&quot;,\\n    &quot;text&quot;: &quot;I found [this channel](https://www.youtube.com/user/unswlolsoc/videos) awhile ago. It goes into great detail on positioning and trading. It also covers a wealth of other things. &quot;,\\n    &quot;user&quot;: &quot;Toxicfunk314&quot;,\\n    &quot;posted_at&quot;: &quot;2015-04-30 23:23:59 UTC&quot;,\\n    &quot;subreddit&quot;: &quot;summonerschool&quot;,\\n    &quot;created_at&quot;: &quot;2015-08-02 07:40:46 UTC&quot;,\\n    &quot;updated_at&quot;: &quot;2015-08-02 07:40:46 UTC&quot;,\\n    &quot;thread_title&quot;: null,\\n    &quot;url&quot;: &quot;http://reddit.com/summonerschool/comments/34exzs/a/b&quot;,\\n    &quot;remote_id&quot;: &quot;cquf10b&quot;\\n  },\\n  {\\n    &quot;id&quot;: 26,\\n    &quot;thread_url&quot;: &quot;http://reddit.com/leagueoflegends/comments/32ntz0&quot;,\\n    &quot;text&quot;: &quot;Take this as advice and suggestions and not as bashing. The best place to learn anything about league, imho, is the long and great videos from [Unswlolsoc&#39;s youtube channel](https://www.youtube.com/user/unswlolsoc). It is quite dated but the information is 99% timeless. If you guys had something of this sort I&#39;d probably sub for at least a month.&quot;,\\n    &quot;user&quot;: &quot;FuujinSama&quot;,\\n    &quot;posted_at&quot;: &quot;2015-04-15 22:30:47 UTC&quot;,\\n    &quot;subreddit&quot;: &quot;leagueoflegends&quot;,\\n    &quot;created_at&quot;: &quot;2015-08-02 07:40:46 UTC&quot;,\\n    &quot;updated_at&quot;: &quot;2015-08-02 07:40:46 UTC&quot;,\\n    &quot;thread_title&quot;: null,\\n    &quot;url&quot;: &quot;http://reddit.com/leagueoflegends/comments/32ntz0/a/1&quot;,\\n    &quot;remote_id&quot;: &quot;cqdo071&quot;\\n  },\\n  {\\n    &quot;id&quot;: 49,\\n    &quot;thread_url&quot;: &quot;http://reddit.com/leagueoflegends/comments/2s3665&quot;,\\n    &quot;text&quot;: &quot;Listening to my playlist all the time: https://www.youtube.com/playlist?list=PLEcPvsz1NFitnZ3VWHcV42JhtO4KuWS3I\\\\n\\\\nIt has pretty much every kind of music in it, check it if you want to.&quot;,\\n    &quot;user&quot;: &quot;c0uNtyy&quot;,\\n    &quot;posted_at&quot;: &quot;2015-01-11 20:21:44 UTC&quot;,\\n    &quot;subreddit&quot;: &quot;leagueoflegends&quot;,\\n    &quot;created_at&quot;: &quot;2015-08-02 07:40:46 UTC&quot;,\\n    &quot;updated_at&quot;: &quot;2015-08-02 07:40:46 UTC&quot;,\\n    &quot;thread_title&quot;: null,\\n    &quot;url&quot;: &quot;http://reddit.com/leagueoflegends/comments/2s3665/a/i&quot;,\\n    &quot;remote_id&quot;: &quot;cnlqx7i&quot;\\n  },\\n  {\\n    &quot;id&quot;: 52,\\n    &quot;thread_url&quot;: &quot;http://reddit.com/leagueoflegends/comments/2s3665&quot;,\\n    &quot;text&quot;: &quot;[Liquicity](https://www.youtube.com/user/Liquicity) Nice and chilled out to help keep a level head and reduce the SoloQ rage&quot;,\\n    &quot;user&quot;: &quot;Rajuun&quot;,\\n    &quot;posted_at&quot;: &quot;2015-01-11 21:02:54 UTC&quot;,\\n    &quot;subreddit&quot;: &quot;leagueoflegends&quot;,\\n    &quot;created_at&quot;: &quot;2015-08-02 07:40:46 UTC&quot;,\\n    &quot;updated_at&quot;: &quot;2015-08-02 07:40:46 UTC&quot;,\\n    &quot;thread_title&quot;: null,\\n    &quot;url&quot;: &quot;http://reddit.com/leagueoflegends/comments/2s3665/a/f&quot;,\\n    &quot;remote_id&quot;: &quot;cnlsg0f&quot;\\n  },\\n  {\\n    &quot;id&quot;: 80,\\n    &quot;thread_url&quot;: &quot;http://reddit.com/leagueoflegends/comments/2ub4rm&quot;,\\n    &quot;text&quot;: &quot;Hi guys I am Petar known as Fnatic Meraklija.\\\\nI am youtuber 2k + subs. i mostly make parodys and some great plays :) . I started playing lol when zyra was on loading screen. Last season i was gole 2 and this season goal is plat/diamond.\\\\nSo thats about me :) here is my channel and hope you like it :D http://www.youtube.com/user/fnaticmeraklija&quot;,\\n    &quot;user&quot;: &quot;peracar00&quot;,\\n    &quot;posted_at&quot;: &quot;2015-01-31 22:40:16 UTC&quot;,\\n    &quot;subreddit&quot;: &quot;leagueoflegends&quot;,\\n    &quot;created_at&quot;: &quot;2015-08-02 07:40:46 UTC&quot;,\\n    &quot;updated_at&quot;: &quot;2015-08-02 07:40:46 UTC&quot;,\\n    &quot;thread_title&quot;: null,\\n    &quot;url&quot;: &quot;http://reddit.com/leagueoflegends/comments/2ub4rm/a/f&quot;,\\n    &quot;remote_id&quot;: &quot;co752nf&quot;\\n  },\\n  {\\n    &quot;id&quot;: 83,\\n    &quot;thread_url&quot;: &quot;http://reddit.com/leagueoflegends/comments/33dikq&quot;,\\n    &quot;text&quot;: &quot;Check out foxdrop, phylol, redmercy on youtube.\\\\nhttps://www.youtube.com/user/ThePhylol\\\\nhttps://www.youtube.com/user/foxdropLoL\\\\nhttps://www.youtube.com/user/Redmercy\\\\nYou can also check out streams on twitch, i recommend scarra, TheOddOne, Bjergsen. These guys explain what they do and why a lot. \\\\nHope it helps :)&quot;,\\n    &quot;user&quot;: &quot;TSM_Wraithfyter&quot;,\\n    &quot;posted_at&quot;: &quot;2015-04-21 18:33:04 UTC&quot;,\\n    &quot;subreddit&quot;: &quot;leagueoflegends&quot;,\\n    &quot;created_at&quot;: &quot;2015-08-02 07:40:46 UTC&quot;,\\n    &quot;updated_at&quot;: &quot;2015-08-02 07:40:46 UTC&quot;,\\n    &quot;thread_title&quot;: null,\\n    &quot;url&quot;: &quot;http://reddit.com/leagueoflegends/comments/33dikq/a/w&quot;,\\n    &quot;remote_id&quot;: &quot;cqjwh0w&quot;\\n  },\\n  {\\n    &quot;id&quot;: 109,\\n    &quot;thread_url&quot;: &quot;http://reddit.com/leagueoflegends/comments/34md3b&quot;,\\n    &quot;text&quot;: &quot;Hello people! The name I go by is Mizu. I play mostly champs in the mid lane and ad carry champs in the botlane. I play in the Euw server and Im currenly Silver but building my way up to at least Platinum.\\\\nMy channel will consist of top 5&#39;s, montages, and rants or discussions about a certain topic. Of course, all on league of legends. \\\\nThe most recent video I have is a Yasuo Montage I have a made. I know what you&#39;re thinking: \\\\&quot;Wow another Yasuo montage. Lame.\\\\&quot; Well, yeah, but my aim is to have a montage for ALL the champs in the future. So, this is the link: https://www.youtube.com/watch?v=fSdmcOHQqvQ It has some nasty plays so I promise you, you won&#39;t waste time watching it!\\\\n\\\\nThis is a link for my channel, in case you want to check it out:\\\\nhttps://www.youtube.com/channel/UCvJSvDGPSnCeNd1w8W0xSmQ (No custom URL cause Youtube is being a poop right now) &quot;,\\n    &quot;user&quot;: &quot;Linguinigames&quot;,\\n    &quot;posted_at&quot;: &quot;2015-05-03 17:10:03 UTC&quot;,\\n    &quot;subreddit&quot;: &quot;leagueoflegends&quot;,\\n    &quot;created_at&quot;: &quot;2015-08-02 07:40:46 UTC&quot;,\\n    &quot;updated_at&quot;: &quot;2015-08-02 07:40:46 UTC&quot;,\\n    &quot;thread_title&quot;: null,\\n    &quot;url&quot;: &quot;http://reddit.com/leagueoflegends/comments/34md3b/a/0&quot;,\\n    &quot;remote_id&quot;: &quot;cqx25f0&quot;\\n  }\\n]</code></pre><link rel=\\\"stylesheet\\\" href=\\\"https://highlightjs.org/static/styles/railscasts.css\\\"><script src=\\\"https://highlightjs.org/static/highlight.pack.js\\\"></script><script>hljs.highlightBlock(document.getElementById('9fe78c94a7b17d62ddc5003444600388'));</script><style type=\\\"text/css\\\">.rendered_html code.hljs { padding: .5em; color: #e6e1dc; background-color: #232323; }</style>\""
      ]
     },
     "execution_count": 5,
     "metadata": {},
     "output_type": "execute_result"
    }
   ],
   "source": []
  },
  {
   "cell_type": "code",
   "execution_count": null,
   "metadata": {
    "collapsed": true
   },
   "outputs": [],
   "source": []
  }
 ],
 "metadata": {
  "kernelspec": {
   "display_name": "Ruby 2.2.2",
   "language": "ruby",
   "name": "ruby"
  },
  "language_info": {
   "file_extension": "rb",
   "mimetype": "application/x-ruby",
   "name": "ruby",
   "version": "2.2.2"
  }
 },
 "nbformat": 4,
 "nbformat_minor": 0
}
